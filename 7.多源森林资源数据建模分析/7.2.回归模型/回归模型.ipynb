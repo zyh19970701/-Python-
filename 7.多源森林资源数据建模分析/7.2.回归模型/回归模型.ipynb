{
 "cells": [
  {
   "cell_type": "code",
   "execution_count": 1,
   "id": "resident-directive",
   "metadata": {},
   "outputs": [],
   "source": [
    "from sklearn import linear_model\n",
    "from sklearn.tree import DecisionTreeRegressor\n",
    "from sklearn.neighbors import KNeighborsRegressor\n",
    "from sklearn.ensemble import RandomForestRegressor, GradientBoostingRegressor\n",
    "from sklearn.svm import SVR\n",
    "from sklearn.model_selection import train_test_split,cross_val_score\n",
    "from sklearn.preprocessing import StandardScaler\n",
    "from sklearn.metrics import r2_score, mean_squared_error, mean_absolute_error\n",
    "import numpy as np\n",
    "import pandas as pd\n",
    "import os\n",
    "import seaborn as sns\n",
    "from sklearn.datasets import load_boston\n",
    "import matplotlib.pyplot as plt\n"
   ]
  },
  {
   "cell_type": "code",
   "execution_count": 2,
   "id": "opposed-apparel",
   "metadata": {},
   "outputs": [],
   "source": [
    "plt.rcParams['font.sans-serif']=['SimHei']\n",
    "plt.rcParams['axes.unicode_minus'] = False"
   ]
  },
  {
   "cell_type": "code",
   "execution_count": 3,
   "id": "changed-guarantee",
   "metadata": {},
   "outputs": [],
   "source": [
    "#1 准备数据\n",
    "#定义当前目录\n",
    "os.chdir(r'./')\n",
    "work_path = os.getcwd()\n",
    "#第六章节提取的植被指数、纹理特征和波段数据用于本章的建模数据\n",
    "file_path = os.path.join(work_path,'使用数据','variable_GF2.csv')\n",
    "#初始化数据集\n",
    "data = pd.read_csv(file_path,engine = 'python')\n",
    "#查看数据\n",
    "data.head()\n",
    "\n",
    "#2 分割数据\n",
    "#定义训练数据和测试数据\n",
    "x = data.iloc[:,1:]\n",
    "y = data['AGB']\n",
    "#划分训练集与测试集，随机采样25%作为测试 75%作为训练\n",
    "x_train, x_test, y_train, y_test = train_test_split(x, y, test_size=0.25, random_state=33)\n",
    "\n",
    "#3 在训练前标准化训练集与测试集\n",
    "ss_x = StandardScaler().fit(x_train)\n",
    "x_train = ss_x.transform(x_train)\n",
    "x_test = ss_x.transform(x_test)\n",
    "ss_y = StandardScaler().fit(y_train.values.reshape(-1, 1))\n",
    "y_train = ss_y.transform(y_train.values.reshape(-1, 1))\n",
    "y_test = ss_y.transform(y_test.values.reshape(-1, 1))"
   ]
  },
  {
   "cell_type": "code",
   "execution_count": 5,
   "id": "proper-motel",
   "metadata": {},
   "outputs": [
    {
     "name": "stdout",
     "output_type": "stream",
     "text": [
      "线性回归的默认评估值为： -1.6157448114315982\n",
      "线性回归的R_squared值为： -1.6157448114315982\n",
      "线性回归的均方误差为: 7370.259388542501\n",
      "线性回归的平均绝对误差为: 63.298072200668884\n"
     ]
    },
    {
     "data": {
      "text/plain": [
       "[<matplotlib.lines.Line2D at 0x16924658978>]"
      ]
     },
     "execution_count": 5,
     "metadata": {},
     "output_type": "execute_result"
    },
    {
     "data": {
      "image/png": "[encoded data removed]",
      "text/plain": [
       "<Figure size 432x288 with 1 Axes>"
      ]
     },
     "metadata": {
      "needs_background": "light"
     },
     "output_type": "display_data"
    }
   ],
   "source": [
    "\"\"\"\n",
    "线性回归\n",
    "\"\"\"\n",
    "#定义线性回归模型\n",
    "lr = linear_model.LinearRegression()\n",
    "lr.fit(x_train,y_train)\n",
    "\n",
    "#5 模型评估\n",
    "#计算模型评估参数\n",
    "'''线性回归的默认评估值'''\n",
    "acc = lr.score(x_test,y_test)\n",
    "'''线性回归的R_squared值'''\n",
    "y_predict = lr.predict(x_test)\n",
    "r2 = r2_score(y_test, y_predict)\n",
    "'''线性回归的均方误差'''\n",
    "mean_squared_error_value = mean_squared_error(\n",
    "ss_y.inverse_transform(y_test),\n",
    "ss_y.inverse_transform(y_predict))\n",
    "'''线性回归的平均绝对误差'''\n",
    "mean_absolute_error_value = mean_absolute_error(\n",
    "ss_y.inverse_transform(y_test),\n",
    "ss_y.inverse_transform(y_predict))\n",
    "print(\"线性回归的默认评估值为：\",acc)\n",
    "print(\"线性回归的R_squared值为：\",r2)\n",
    "print(\"线性回归的均方误差为:\", mean_squared_error_value)\n",
    "print(\"线性回归的平均绝对误差为:\",mean_absolute_error_value)\n",
    "\n",
    "#显示结果\n",
    "y = ss_y.inverse_transform(y_test)\n",
    "pre_y = lr.predict(x_test)\n",
    "pre_y = ss_y.inverse_transform(pre_y)\n",
    "data = pd.DataFrame(np.column_stack([y,pre_y]),columns=['original','predict'])\n",
    "\n",
    "original= data['original']\n",
    "predict = data['predict']\n",
    "plt.scatter(original, predict)\n",
    "plt.xlabel('实际值')\n",
    "plt.ylabel('预测值')\n",
    "plt.text(x = -40 ,y = 540 , s = r'$Mg·hm^{-2}$',size=8)\n",
    "plt.plot([500,0],[500,0])\n",
    "# plt.savefig(r'g:\\python林业资源\\出图/回归线性.png',dpi=300)"
   ]
  },
  {
   "cell_type": "code",
   "execution_count": 6,
   "id": "departmental-christian",
   "metadata": {},
   "outputs": [
    {
     "name": "stdout",
     "output_type": "stream",
     "text": [
      "平均k近邻回归的默认评估值为： 0.16740205847801137\n",
      "平均k近邻回归的R_squared值为： 0.16740205847801137\n",
      "平均k近邻回归的均方误差为: 2345.9715063049703\n",
      "平均k近邻回归 的平均绝对误差为: 36.93275686477273\n"
     ]
    },
    {
     "data": {
      "text/plain": [
       "[<matplotlib.lines.Line2D at 0x16924658a58>]"
      ]
     },
     "execution_count": 6,
     "metadata": {},
     "output_type": "execute_result"
    },
    {
     "data": {
      "image/png": "[encoded data removed]",
      "text/plain": [
       "<Figure size 432x288 with 1 Axes>"
      ]
     },
     "metadata": {
      "needs_background": "light"
     },
     "output_type": "display_data"
    }
   ],
   "source": [
    "\"\"\"\n",
    "KNN回归\n",
    "\"\"\"\n",
    "\n",
    "#定义KNN回归模型\n",
    "uni_knr = KNeighborsRegressor(n_neighbors=2)\n",
    "uni_knr.fit(x_train, y_train.ravel())\n",
    "#预测\n",
    "uni_knr_predict = uni_knr.predict(x_test)\n",
    "# 5 模型评估\n",
    "# 平均k近邻回归 模型评估\n",
    "print(\"平均k近邻回归的默认评估值为：\", uni_knr.score(x_test, y_test))\n",
    "print(\"平均k近邻回归的R_squared值为：\", r2_score(y_test, uni_knr_predict))\n",
    "print(\"平均k近邻回归的均方误差为:\", mean_squared_error(ss_y.inverse_transform(y_test),\n",
    "                                              ss_y.inverse_transform(uni_knr_predict)))\n",
    "print(\"平均k近邻回归 的平均绝对误差为:\", mean_absolute_error(ss_y.inverse_transform(y_test),\n",
    "                                                 ss_y.inverse_transform(uni_knr_predict)))\n",
    "#显示结果\n",
    "y = ss_y.inverse_transform(y_test)\n",
    "pre_y = uni_knr.predict(x_test)\n",
    "pre_y = ss_y.inverse_transform(pre_y)\n",
    "data = pd.DataFrame(np.column_stack([y,pre_y]),columns=['original','predict'])\n",
    "original= data['original']\n",
    "predict = data['predict']\n",
    "plt.scatter(original, predict)\n",
    "plt.xlabel('实际值')\n",
    "plt.ylabel('预测值')\n",
    "plt.text(x = -40 ,y = 540 , s = r'$Mg·hm^{-2}$',size=8)\n",
    "plt.plot([500,0],[500,0])"
   ]
  },
  {
   "cell_type": "code",
   "execution_count": 8,
   "id": "wooden-location",
   "metadata": {},
   "outputs": [
    {
     "name": "stdout",
     "output_type": "stream",
     "text": [
      "回归树的默认评估值为： -0.4181586483806594\n",
      "平回归树的R_squared值为： -0.4181586483806594\n",
      "回归树的均方误差为: 3995.877979759734\n",
      "回归树的平均绝对误差为: 45.73905512318182\n"
     ]
    },
    {
     "data": {
      "text/plain": [
       "[<matplotlib.lines.Line2D at 0x1692502fac8>]"
      ]
     },
     "execution_count": 8,
     "metadata": {},
     "output_type": "execute_result"
    },
    {
     "data": {
      "image/png": "[encoded data removed]",
      "text/plain": [
       "<Figure size 432x288 with 1 Axes>"
      ]
     },
     "metadata": {
      "needs_background": "light"
     },
     "output_type": "display_data"
    }
   ],
   "source": [
    "\"\"\"\n",
    "决策树回归\n",
    "\"\"\"\n",
    "\n",
    "#定义决策树回归模型\n",
    "dtr = DecisionTreeRegressor()\n",
    "#训练\n",
    "dtr.fit(x_train, y_train)\n",
    "# 预测 保存预测结果\n",
    "dtr_y_predict = dtr.predict(x_test)\n",
    "#5 模型评估\n",
    "print(\"回归树的默认评估值为：\", dtr.score(x_test, y_test))\n",
    "print(\"平回归树的R_squared值为：\", r2_score(y_test, dtr_y_predict))\n",
    "print(\"回归树的均方误差为:\", mean_squared_error(ss_y.inverse_transform(y_test),\n",
    "                                           ss_y.inverse_transform(dtr_y_predict)))\n",
    "print(\"回归树的平均绝对误差为:\", mean_absolute_error(ss_y.inverse_transform(y_test),\n",
    "                                                ss_y.inverse_transform(dtr_y_predict)))\n",
    "\n",
    "#显示预测结果\n",
    "y = ss_y.inverse_transform(y_test)\n",
    "pre_y = dtr.predict(x_test)\n",
    "pre_y = ss_y.inverse_transform(pre_y)\n",
    "data = pd.DataFrame(np.column_stack([y,pre_y]),columns=['original','predict'])\n",
    "original= data['original']\n",
    "predict = data['predict']\n",
    "plt.scatter(original, predict)\n",
    "plt.xlabel('实际值')\n",
    "plt.ylabel('预测值')\n",
    "plt.text(x = -40 ,y = 540 , s = r'$Mg·hm^{-2}$',size=8)\n",
    "plt.plot([500,0],[500,0])"
   ]
  },
  {
   "cell_type": "code",
   "execution_count": 9,
   "id": "other-guard",
   "metadata": {},
   "outputs": [
    {
     "name": "stdout",
     "output_type": "stream",
     "text": [
      "支持向量机的默认评估值为： -0.1814164670235141\n",
      "支持向量机的R_squared值为： -0.1814164670235141\n",
      "支持向量机的均方误差为: 3328.8208275536\n",
      "支持向量机的平均绝对误差为: 46.60596635770607\n"
     ]
    },
    {
     "name": "stderr",
     "output_type": "stream",
     "text": [
      "C:\\Users\\Admin\\AppData\\Roaming\\Python\\Python36\\site-packages\\sklearn\\utils\\validation.py:63: DataConversionWarning: A column-vector y was passed when a 1d array was expected. Please change the shape of y to (n_samples, ), for example using ravel().\n",
      "  return f(*args, **kwargs)\n"
     ]
    },
    {
     "data": {
      "text/plain": [
       "[<matplotlib.lines.Line2D at 0x1692502fba8>]"
      ]
     },
     "execution_count": 9,
     "metadata": {},
     "output_type": "execute_result"
    },
    {
     "data": {
      "image/png": "[encoded data removed]",
      "text/plain": [
       "<Figure size 432x288 with 1 Axes>"
      ]
     },
     "metadata": {
      "needs_background": "light"
     },
     "output_type": "display_data"
    }
   ],
   "source": [
    "\"\"\"\n",
    "svm回归\n",
    "\"\"\"\n",
    "#定义向量机回归模型\n",
    "linear_svr=SVR(kernel='linear')\n",
    "linear_svr.fit(x_train,y_train)\n",
    "#5 模型评估\n",
    "#计算模型评估参数\n",
    "'''支持向量机的默认评估值'''\n",
    "acc = linear_svr.score(x_test,y_test)\n",
    "'''支持向量机的R_squared值'''\n",
    "y_predict = linear_svr.predict(x_test)\n",
    "r2 = r2_score(y_test, y_predict)\n",
    "'''支持向量机的均方误差'''\n",
    "mean_squared_error_value = mean_squared_error(\n",
    "ss_y.inverse_transform(y_test),\n",
    "ss_y.inverse_transform(y_predict))\n",
    "'''支持向量机的平均绝对误差'''\n",
    "mean_absolute_error_value = mean_absolute_error(\n",
    "ss_y.inverse_transform(y_test),\n",
    "ss_y.inverse_transform(y_predict))\n",
    "print(\"支持向量机的默认评估值为：\",acc)\n",
    "print(\"支持向量机的R_squared值为：\",r2)\n",
    "print(\"支持向量机的均方误差为:\", mean_squared_error_value)\n",
    "print(\"支持向量机的平均绝对误差为:\",mean_absolute_error_value)\n",
    "\n",
    "#显示结果\n",
    "y = ss_y.inverse_transform(y_test)\n",
    "pre_y = linear_svr.predict(x_test)\n",
    "pre_y = ss_y.inverse_transform(pre_y)\n",
    "data = pd.DataFrame(np.column_stack([y,pre_y]),columns=['original','predict'])\n",
    "data.to_csv('predict.csv')\n",
    "\n",
    "original= data['original']\n",
    "predict = data['predict']\n",
    "plt.scatter(original, predict)\n",
    "plt.xlabel('实际值')\n",
    "plt.ylabel('预测值')\n",
    "plt.text(x = -40 ,y = 540 , s = r'$Mg·hm^{-2}$',size=8)\n",
    "plt.plot([500,0],[500,0])\n"
   ]
  },
  {
   "cell_type": "code",
   "execution_count": 10,
   "id": "laughing-brick",
   "metadata": {},
   "outputs": [
    {
     "name": "stderr",
     "output_type": "stream",
     "text": [
      "C:\\Users\\Admin\\AppData\\Roaming\\Python\\Python36\\site-packages\\ipykernel_launcher.py:5: DataConversionWarning: A column-vector y was passed when a 1d array was expected. Please change the shape of y to (n_samples,), for example using ravel().\n",
      "  \"\"\"\n"
     ]
    },
    {
     "name": "stdout",
     "output_type": "stream",
     "text": [
      "随机森林回归的默认评估值为： 0.3233735571717624\n",
      "随机森林回归的R_squared值为： 0.3233735571717624\n",
      "随机森林回归的均方误差为: 1906.4980540137606\n",
      "随机森林回归的平均绝对误差为: 34.2843916687177\n"
     ]
    },
    {
     "data": {
      "text/plain": [
       "[<matplotlib.lines.Line2D at 0x1692125bf98>]"
      ]
     },
     "execution_count": 10,
     "metadata": {},
     "output_type": "execute_result"
    },
    {
     "data": {
      "image/png": "[encoded data removed]",
      "text/plain": [
       "<Figure size 432x288 with 1 Axes>"
      ]
     },
     "metadata": {
      "needs_background": "light"
     },
     "output_type": "display_data"
    }
   ],
   "source": [
    "\"\"\"\n",
    "随机森林回归\n",
    "\"\"\"\n",
    "rfr = RandomForestRegressor(n_estimators=3000)\n",
    "rfr.fit(x_train,y_train)\n",
    "importances=rfr.feature_importances_\n",
    "\n",
    "#5 模型评估\n",
    "#计算模型评估参数\n",
    "'''随机森林回归的默认评估值'''\n",
    "acc = rfr.score(x_test,y_test)\n",
    "'''随机森林回归的R_squared值'''\n",
    "y_predict = rfr.predict(x_test)\n",
    "r2 = r2_score(y_test, y_predict)\n",
    "'''随机森林回归的均方误差'''\n",
    "mean_squared_error_value = mean_squared_error(\n",
    "ss_y.inverse_transform(y_test),\n",
    "ss_y.inverse_transform(y_predict))\n",
    "'''随机森林回归的平均绝对误差'''\n",
    "mean_absolute_error_value = mean_absolute_error(\n",
    "ss_y.inverse_transform(y_test),\n",
    "ss_y.inverse_transform(y_predict))\n",
    "print(\"随机森林回归的默认评估值为：\",acc)\n",
    "print(\"随机森林回归的R_squared值为：\",r2)\n",
    "print(\"随机森林回归的均方误差为:\", mean_squared_error_value)\n",
    "print(\"随机森林回归的平均绝对误差为:\",mean_absolute_error_value)\n",
    "\n",
    "#显示结果\n",
    "y = ss_y.inverse_transform(y_test)\n",
    "pre_y = rfr.predict(x_test)\n",
    "pre_y = ss_y.inverse_transform(pre_y)\n",
    "data = pd.DataFrame(np.column_stack([y,pre_y]),columns=['original','predict'])\n",
    "\n",
    "original= data['original']\n",
    "predict = data['predict']\n",
    "plt.scatter(original, predict)\n",
    "plt.xlabel('实际值')\n",
    "plt.ylabel('预测值')\n",
    "plt.text(x = -40 ,y = 540 , s = r'$Mg·hm^{-2}$',size=8)\n",
    "plt.plot([500,0],[500,0])"
   ]
  },
  {
   "cell_type": "code",
   "execution_count": null,
   "id": "minimal-selling",
   "metadata": {},
   "outputs": [],
   "source": []
  }
 ],
 "metadata": {
  "kernelspec": {
   "display_name": "Python 3",
   "language": "python",
   "name": "python3"
  },
  "language_info": {
   "codemirror_mode": {
    "name": "ipython",
    "version": 3
   },
   "file_extension": ".py",
   "mimetype": "text/x-python",
   "name": "python",
   "nbconvert_exporter": "python",
   "pygments_lexer": "ipython3",
   "version": "3.6.4"
  }
 },
 "nbformat": 4,
 "nbformat_minor": 5
}
